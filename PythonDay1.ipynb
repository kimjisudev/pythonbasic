{
  "nbformat": 4,
  "nbformat_minor": 0,
  "metadata": {
    "colab": {
      "provenance": [],
      "toc_visible": true,
      "authorship_tag": "ABX9TyNTAKwDyX5jaT9r70s0LJKU",
      "include_colab_link": true
    },
    "kernelspec": {
      "name": "python3",
      "display_name": "Python 3"
    },
    "language_info": {
      "name": "python"
    }
  },
  "cells": [
    {
      "cell_type": "markdown",
      "metadata": {
        "id": "view-in-github",
        "colab_type": "text"
      },
      "source": [
        "<a href=\"https://colab.research.google.com/github/kimjisudev/pythonbasic/blob/main/PythonDay1.ipynb\" target=\"_parent\"><img src=\"https://colab.research.google.com/assets/colab-badge.svg\" alt=\"Open In Colab\"/></a>"
      ]
    },
    {
      "cell_type": "code",
      "execution_count": null,
      "metadata": {
        "colab": {
          "base_uri": "https://localhost:8080/"
        },
        "id": "8Tw93ku1kohV",
        "outputId": "c55b6b5a-50d4-4ce9-fa9e-7ec4a82d1a6d"
      },
      "outputs": [
        {
          "output_type": "stream",
          "name": "stdout",
          "text": [
            "Hello World 한글\n"
          ]
        }
      ],
      "source": [
        "print(\"Hello World 한글\")"
      ]
    },
    {
      "cell_type": "code",
      "source": [
        "# 파이썬은 자바와는 달리 자료형 선언을 하지 않아도 알아서 데이터에 맞게 타입을 자동지정한다.\n",
        "a=20\n",
        "b=\"Hello\"\n",
        "a=\"hi\"\n",
        "print(a)"
      ],
      "metadata": {
        "colab": {
          "base_uri": "https://localhost:8080/"
        },
        "id": "E8S524FrlTMK",
        "outputId": "3a4fdb67-f460-4a3a-f4d3-0f5c3d7643b2"
      },
      "execution_count": null,
      "outputs": [
        {
          "output_type": "stream",
          "name": "stdout",
          "text": [
            "hi\n"
          ]
        }
      ]
    },
    {
      "cell_type": "code",
      "source": [
        "# 숫자형 자료에서의 연산\n",
        "a=3\n",
        "b=4\n",
        "\n",
        "# 코랩에서는 print 생략해도 알아서 print() 넣어준다. 대신 마지막에만 적용됨. (파이썬의 특징 X)\n",
        "a+b\n",
        "a-b"
      ],
      "metadata": {
        "colab": {
          "base_uri": "https://localhost:8080/"
        },
        "id": "rjGSurT9rZLP",
        "outputId": "bda42d10-9d10-4c0f-a68f-767c9306d2ae"
      },
      "execution_count": null,
      "outputs": [
        {
          "output_type": "execute_result",
          "data": {
            "text/plain": [
              "-1"
            ]
          },
          "metadata": {},
          "execution_count": 3
        }
      ]
    },
    {
      "cell_type": "code",
      "source": [
        "a+b\n",
        "a-b\n",
        "\n",
        "print(a+b)\n",
        "print(a-b)\n",
        "\n",
        "# print() 구문 생략하면 마지막 구문만 출력해주기 때문에, 전부 출력하고 싶으면 각 print()다 적어야 함.\n",
        "# 파이썬의 특징이 아닌, 코랩의 특징이다.\n"
      ],
      "metadata": {
        "colab": {
          "base_uri": "https://localhost:8080/"
        },
        "id": "tuTaXSpar71Z",
        "outputId": "6beb9f3a-13ed-474b-d832-fcd05aeb9061"
      },
      "execution_count": null,
      "outputs": [
        {
          "output_type": "stream",
          "name": "stdout",
          "text": [
            "7\n",
            "-1\n"
          ]
        }
      ]
    },
    {
      "cell_type": "code",
      "source": [
        "# 나머지 연산자(%) - 홀수, 짝수, 배수 확인\n",
        "5/2 # 일반적인 나머지 구하기"
      ],
      "metadata": {
        "colab": {
          "base_uri": "https://localhost:8080/"
        },
        "id": "oTIGd4CKr2Do",
        "outputId": "d4c4a246-0866-4460-df31-a92d9e5436aa"
      },
      "execution_count": null,
      "outputs": [
        {
          "output_type": "execute_result",
          "data": {
            "text/plain": [
              "2.5"
            ]
          },
          "metadata": {},
          "execution_count": 4
        }
      ]
    },
    {
      "cell_type": "code",
      "source": [
        "5 % 2\n",
        "\n",
        "# 나눈 결과의 몫은 버리고 나머지만 취한다.\n",
        "# 따라서 어떤 수를 2로 나누어, 나머지가 0이면 짝수, 1이면 홀수"
      ],
      "metadata": {
        "colab": {
          "base_uri": "https://localhost:8080/"
        },
        "id": "InXGTpEIsbNn",
        "outputId": "5408929f-0185-4908-b89c-0475dd68cfb8"
      },
      "execution_count": null,
      "outputs": [
        {
          "output_type": "execute_result",
          "data": {
            "text/plain": [
              "1"
            ]
          },
          "metadata": {},
          "execution_count": 6
        }
      ]
    },
    {
      "cell_type": "code",
      "source": [
        "8 % 2\n",
        "\n",
        "# 어떤 수 8을 어떤 수 2로 나눈 나머지가 0이면 배수이다."
      ],
      "metadata": {
        "colab": {
          "base_uri": "https://localhost:8080/"
        },
        "id": "xjXxyAc2sn-q",
        "outputId": "fee5a244-4caf-4975-fa1a-e49f1bdf9bdc"
      },
      "execution_count": null,
      "outputs": [
        {
          "output_type": "execute_result",
          "data": {
            "text/plain": [
              "0"
            ]
          },
          "metadata": {},
          "execution_count": 7
        }
      ]
    },
    {
      "cell_type": "code",
      "source": [
        "# 문자열 자료형 - 파이썬에서는 \"\"와 ''가 완전히 동일하게 사용된다.\n",
        "\n",
        "# 1 큰 따옴표\n",
        "\"Hello World\"\n",
        "\n",
        "# 2 작은 따옴표 : String\n",
        "'Hello World'\n",
        "\n",
        "# 3 3중 따옴표 : Doc String\n",
        "\"\"\"Hello World\"\"\"\n",
        "'''Hello World'''"
      ],
      "metadata": {
        "colab": {
          "base_uri": "https://localhost:8080/",
          "height": 35
        },
        "id": "mUmGnk7avxYh",
        "outputId": "0e8cda88-5d64-4d9d-e6b6-b3ff14c15850"
      },
      "execution_count": null,
      "outputs": [
        {
          "output_type": "execute_result",
          "data": {
            "text/plain": [
              "'Hello World'"
            ],
            "application/vnd.google.colaboratory.intrinsic+json": {
              "type": "string"
            }
          },
          "metadata": {},
          "execution_count": 8
        }
      ]
    },
    {
      "cell_type": "code",
      "source": [
        "# 파이썬에서는 큰따옴표와 작은따옴표에 전혀 차이가 없지만\n",
        "# 아래의 용도로는 분리하여 사용된다.\n",
        "\n",
        "\"Python's\"    # 작은 따옴표 하나를 출력하기 위한 용도\n",
        "'say \"Hello\"' # 작은 따옴표 안에서 큰 따옴표를 출력하기 위한 용도"
      ],
      "metadata": {
        "colab": {
          "base_uri": "https://localhost:8080/",
          "height": 35
        },
        "id": "tzUHt9VZvzi_",
        "outputId": "1d5035a4-d229-4779-954f-6927e7217e9c"
      },
      "execution_count": null,
      "outputs": [
        {
          "output_type": "execute_result",
          "data": {
            "text/plain": [
              "'say \"Hello\"'"
            ],
            "application/vnd.google.colaboratory.intrinsic+json": {
              "type": "string"
            }
          },
          "metadata": {},
          "execution_count": 9
        }
      ]
    },
    {
      "cell_type": "code",
      "source": [
        "# 줄바꿈 \\n\n",
        "\n",
        "a = \"I love you\\nYou love me?\"\n",
        "print(a)\n",
        "\n",
        "# 삼중 따옴표는 줄바꿈도 포함해 저장한다.\n",
        "b= \"\"\"I love you\n",
        "You love me?\"\"\"\n",
        "print(b)\n",
        "\n",
        "# c=\"I love you\n",
        "# You love me?\"\n",
        "# print(c)  오류 발생, 줄바꿈 인식 못함."
      ],
      "metadata": {
        "colab": {
          "base_uri": "https://localhost:8080/"
        },
        "id": "vAXMsMPVxHB5",
        "outputId": "225beda9-65f4-488c-ef57-d99528e59c3f"
      },
      "execution_count": null,
      "outputs": [
        {
          "output_type": "stream",
          "name": "stdout",
          "text": [
            "I love you\n",
            "You love me?\n",
            "I love you\n",
            "You love me?\n"
          ]
        }
      ]
    },
    {
      "cell_type": "code",
      "source": [
        "# 문자열 연산\n",
        "\n",
        "# 파이썬에서는 문자열도 연산 가능.\n",
        "# 다른 언어에서는 거의 없는 파이썬만의 독특한 특징.\n",
        "# 우리 생각을 그대로 반영할 수 있다는 파이썬만의 장점.\n",
        "\n",
        "a = \"I \"\n",
        "b = \"love \"\n",
        "c = \"you\"\n",
        "print(a+b+c)\n",
        "\n",
        "d = \"love \"\n",
        "print(d * 3)\n",
        "\n",
        "e = \"=\"\n",
        "print(e*30)"
      ],
      "metadata": {
        "colab": {
          "base_uri": "https://localhost:8080/"
        },
        "id": "A5AOLGiiyoUz",
        "outputId": "64f9ed27-69b9-4d1c-882b-608436aaedef"
      },
      "execution_count": null,
      "outputs": [
        {
          "output_type": "stream",
          "name": "stdout",
          "text": [
            "I love you\n",
            "love love love \n",
            "==============================\n"
          ]
        }
      ]
    },
    {
      "cell_type": "code",
      "source": [
        "# 문자열 자료형에서 많이 사용되는 함수\n",
        "\n",
        "# len() 문자열의 길이 구하기\n",
        "print(len(\"i love you\"))  # 빈칸도 글자 취급함"
      ],
      "metadata": {
        "colab": {
          "base_uri": "https://localhost:8080/"
        },
        "id": "FCEYQwyo0S8K",
        "outputId": "23766038-6da8-4a5a-b6e4-a5aab13d21ee"
      },
      "execution_count": null,
      "outputs": [
        {
          "output_type": "stream",
          "name": "stdout",
          "text": [
            "10\n"
          ]
        }
      ]
    },
    {
      "cell_type": "code",
      "source": [
        "# 인덱싱과 슬라이싱 indexing & slicing\n",
        "# 리스트와 튜플에서도 완전히 동일하게 사용된다.\n",
        "\n",
        "# 인덱싱 : 한 개의 글자 추출\n",
        "a = \"I Love You\"\n",
        "print(a[0])\n",
        "print(a[9])\n",
        "print(a[-1])  # 마지막 글자 추출은 인덱스 -1 사용\n",
        "print(a[-3])  # 뒤에서 3번째 글자 추출\n",
        "\n",
        "# 슬라이싱 : 여러개의 글자 추출\n",
        "a = \"I love you\"\n",
        "print(a[2] + a[3] + a[4] + a[5])\n",
        "print(a[2:5])   # 끝자리 나타내는 수는 미만으르 의미. 마지막 인덱스 전까지만 출력\n",
        "print(a[2:6])\n",
        "print(a[7:])    # 끝자리 생략하면 끝까지 출력\n",
        "print(a[:2])    # 시작 생략하면 처음부터 출력\n",
        "print(a[:])     # 모든 자리 생략하면 처음부터 끝까지 출력\n",
        "print(a[7:-1])  # 슬라이싱에서도 - 표기 사용, 마지막 인덱스라는 의미"
      ],
      "metadata": {
        "colab": {
          "base_uri": "https://localhost:8080/"
        },
        "id": "URxzIzW00xok",
        "outputId": "7fd50125-1e27-4065-8dae-9ba63f93809c"
      },
      "execution_count": null,
      "outputs": [
        {
          "output_type": "stream",
          "name": "stdout",
          "text": [
            "I\n",
            "u\n",
            "u\n",
            "Y\n",
            "love\n",
            "lov\n",
            "love\n",
            "you\n",
            "I \n",
            "I love you\n",
            "yo\n"
          ]
        }
      ]
    },
    {
      "cell_type": "code",
      "source": [
        "# 파이썬에서 출력 방법 총 4가지\n",
        "\n",
        "# 1 문자열 포맷팅 (중요도 하)\n",
        "print(\"I %s you\" % \"love\")    # 자리 표시자(문자 string)\n",
        "print(\"I ate %d apples\" % 5)  # (숫자 dict)\n",
        "print(\"I ate %s apples\" % 5)  # (문자 자리에 숫자 넣어도 됨)\n",
        "\n",
        "print(\"I %s you, I ate %s apples\" % (\"love\", 5) )  # 여러개 넣기\n",
        "\n",
        "# 2 format() 포맷 함수 (중요도 하)\n",
        "print(\"I {} you\".format(\"love\"))    # 자리 표시자 구분없이 {}\n",
        "print(\"I ate {} apples\".format(5))\n",
        "print(\"I ate {} apples\".format(5))\n",
        "\n",
        "print(\"I {} you, I ate {} apples\".format(\"love\", 5) )"
      ],
      "metadata": {
        "colab": {
          "base_uri": "https://localhost:8080/"
        },
        "id": "TU71V0hw8Azh",
        "outputId": "bf3b6b74-abc9-4dcd-9609-2b00eff9b12b"
      },
      "execution_count": 28,
      "outputs": [
        {
          "output_type": "stream",
          "name": "stdout",
          "text": [
            "I love you\n",
            "I ate 5 apples\n",
            "I ate 5 apples\n",
            "I love you, I ate 5 apples\n",
            "I love you\n",
            "I ate 5 apples\n",
            "I ate 5 apples\n",
            "I love you, I ate 5 apples\n"
          ]
        }
      ]
    },
    {
      "cell_type": "code",
      "source": [
        "# 3 f스트링 (중요도 상)\n",
        "a = \"love\"\n",
        "b = 5\n",
        "\n",
        "print(f\"I {a} you\")    # 앞에 f쓰고 자리표시자 {}안에 변수넣기\n",
        "print(f\"I ate {b} apples\")\n",
        "print(f\"I ate {b} apples\")\n",
        "\n",
        "print(f\"I {a} you, I ate {b} apples\" )"
      ],
      "metadata": {
        "colab": {
          "base_uri": "https://localhost:8080/"
        },
        "id": "whU0PkcY9yxz",
        "outputId": "b0c85aea-f245-4513-c95d-3f363517953e"
      },
      "execution_count": 35,
      "outputs": [
        {
          "output_type": "stream",
          "name": "stdout",
          "text": [
            "I love you\n",
            "I ate 5 apples\n",
            "I ate 5 apples\n",
            "I love you, I ate 5 apples\n"
          ]
        }
      ]
    },
    {
      "cell_type": "code",
      "source": [
        "# 4 연산자 사용\n",
        "print(\"I \" + a + \" you\")    \n",
        "print(\"I ate \" ,b, \" apples\") # 문자열에 숫자 합할 때는 + 기호대신 ,사용\n",
        "\n",
        "print(\"I \" +a+ \" you, I ate \" ,b, \"apples\" )\n",
        "\n",
        "  # + 연산자 대신 모두 콤마(,)사용해도 됨\n",
        "print(\"I \" ,a, \" you\")    \n",
        "print(\"I ate \" ,b, \" apples\")\n",
        "\n",
        "print(\"I \" ,a, \" you, I ate \" ,b, \"apples\" )"
      ],
      "metadata": {
        "colab": {
          "base_uri": "https://localhost:8080/"
        },
        "id": "FEEbXnyJAHf1",
        "outputId": "a88d0496-fca0-490b-aead-abf315e6b0e8"
      },
      "execution_count": 37,
      "outputs": [
        {
          "output_type": "stream",
          "name": "stdout",
          "text": [
            "I love you\n",
            "I ate  5  apples\n",
            "I love you, I ate  5 apples\n",
            "I  love  you\n",
            "I ate  5  apples\n",
            "I  love  you, I ate  5 apples\n"
          ]
        }
      ]
    },
    {
      "cell_type": "code",
      "source": [
        "# 문자열 관련 자주 사용하는 함수 정리\n",
        "\n",
        "# len 문자열의 갯수 확인\n",
        "print(len(\"i love you\"))  "
      ],
      "metadata": {
        "id": "iMely4LLA0MX"
      },
      "execution_count": null,
      "outputs": []
    }
  ]
}